{
 "cells": [
  {
   "cell_type": "markdown",
   "metadata": {},
   "source": [
    "Using the code in notes/HiddenMarkovModel.ipynb (see Toy Example 1) and VPythonAnimations.ipynb, solve the localization problem covered in the class using the same dynamical model \n",
    "\n",
    "- There is a circular corridor with 10 tiles enumerated from 0 to 9 having the following colors, \n",
    "\n",
    "[K K W K W W K W W K]\n",
    "\n",
    "where K denotes black and W denotes white.\n",
    "\n",
    "- The robot stays on the same tile with probability 0.1 and jumps to the next one with 0.9\n",
    "\n",
    "We have the following observation model:\n",
    "\n",
    "- there are only white and black tiles but we observe thre colors, white, black and green, denoted as w, k, g\n",
    "- The probability of observing w when on a white tile W is 0.2 and observing g is 0.8\n",
    "- The probability of observing k when on a black tile K is 0.3 and observing g is 0.7\n",
    "\n",
    "we know the robot starts from tile 0\n",
    "\n",
    "Carefully write down the observation model and compute the probability of being on each tile after observing\n",
    "the following sequence:\n",
    "\n",
    "g g g w g g k k k w g g w\n",
    "\n",
    "\n"
   ]
  }
 ],
 "metadata": {
  "kernelspec": {
   "display_name": "Python 3",
   "language": "python",
   "name": "python3"
  },
  "language_info": {
   "codemirror_mode": {
    "name": "ipython",
    "version": 3
   },
   "file_extension": ".py",
   "mimetype": "text/x-python",
   "name": "python",
   "nbconvert_exporter": "python",
   "pygments_lexer": "ipython3",
   "version": "3.5.3"
  },
  "toc": {
   "nav_menu": {},
   "number_sections": true,
   "sideBar": true,
   "skip_h1_title": false,
   "toc_cell": false,
   "toc_position": {},
   "toc_section_display": "block",
   "toc_window_display": false
  }
 },
 "nbformat": 4,
 "nbformat_minor": 2
}
