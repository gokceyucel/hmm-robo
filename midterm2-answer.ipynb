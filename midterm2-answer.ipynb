{
 "cells": [
  {
   "cell_type": "code",
   "execution_count": 3,
   "metadata": {},
   "outputs": [
    {
     "name": "stderr",
     "output_type": "stream",
     "text": [
      "/Users/gokceyucel/Boun/ml/midterm2-gokceyucel/HiddenMarkovModel.py:16: RuntimeWarning: divide by zero encountered in log\n",
      "  self.logB = np.log(self.B)\n",
      "/Users/gokceyucel/Boun/ml/midterm2-gokceyucel/HiddenMarkovModel.py:17: RuntimeWarning: divide by zero encountered in log\n",
      "  self.logA = np.log(self.A)\n",
      "/Users/gokceyucel/Boun/ml/midterm2-gokceyucel/HiddenMarkovModel.py:50: RuntimeWarning: divide by zero encountered in log\n",
      "  return lstar + np.log(np.dot(self.A,np.exp(lp-lstar)))\n",
      "/Users/gokceyucel/Boun/ml/midterm2-gokceyucel/HiddenMarkovModel.py:54: RuntimeWarning: divide by zero encountered in log\n",
      "  return lstar + np.log(np.dot(np.exp(lp-lstar), self.A))\n"
     ]
    },
    {
     "data": {
      "image/png": "[encoded data removed]",
      "text/plain": [
       "<matplotlib.figure.Figure at 0x10890db70>"
      ]
     },
     "metadata": {},
     "output_type": "display_data"
    },
    {
     "data": {
      "image/png": "[encoded data removed]",
      "text/plain": [
       "<matplotlib.figure.Figure at 0x1086a12b0>"
      ]
     },
     "metadata": {},
     "output_type": "display_data"
    },
    {
     "data": {
      "image/png": "[encoded data removed]",
      "text/plain": [
       "<matplotlib.figure.Figure at 0x10885de80>"
      ]
     },
     "metadata": {},
     "output_type": "display_data"
    },
    {
     "data": {
      "image/png": "[encoded data removed]",
      "text/plain": [
       "<matplotlib.figure.Figure at 0x1081acc88>"
      ]
     },
     "metadata": {},
     "output_type": "display_data"
    },
    {
     "data": {
      "image/png": "[encoded data removed]",
      "text/plain": [
       "<matplotlib.figure.Figure at 0x10886fcf8>"
      ]
     },
     "metadata": {},
     "output_type": "display_data"
    }
   ],
   "source": [
    "# %load HiddenMarkovModel.py\n",
    "# %matplotlib inline\n",
    "\n",
    "import numpy as np\n",
    "from notes_utilities import randgen, log_sum_exp, normalize_exp, normalize\n",
    "from HiddenMarkovModel import *\n",
    "import matplotlib.pylab as plt\n",
    "from IPython import display\n",
    "import time\n",
    "\n",
    "# Number of tiles\n",
    "S = 10\n",
    "\n",
    "# Prior\n",
    "#p0 = np.ones(S)/S\n",
    "p0 = np.random.rand(S)\n",
    "p0 = p0/sum(p0)\n",
    "\n",
    "# Setup transition matrix\n",
    "transition_matrix = np.zeros(shape=(10,10))\n",
    "\n",
    "for i in range (10):\n",
    "    j = i\n",
    "    if j < 9:\n",
    "        transition_matrix[i][j] = 0.1\n",
    "        transition_matrix[i][j+1] = 0.9\n",
    "    else:\n",
    "        transition_matrix[i][j] = 0.1\n",
    "        transition_matrix[i][0] = 0.9\n",
    "\n",
    "observation_probabilities = np.array([\n",
    "                    [0.3, 0.0],\n",
    "                    [0.0, 0.2],\n",
    "                    [0.7, 0.8]])\n",
    "\n",
    "# Setup observations\n",
    "#observations = ['g', 'g', 'g', 'w', 'g', 'g', 'k', 'k', 'k', 'w', 'g', 'g', 'w']\n",
    "observations = ['g', 'g', 'g', 'w', 'g', 'g', 'k', 'k', 'k', 'w']\n",
    "\n",
    "# Numeric observations represented as: \n",
    "# [0,0,1] for 'g' (green)\n",
    "# [0,1,0] for 'w' (white)\n",
    "# [1,0,0] for 'k' (black)\n",
    "\n",
    "# Define observation matrix\n",
    "observation_matrix = np.zeros(shape=(3,len(observations)))\n",
    "\n",
    "for i in range (len(observations)):\n",
    "    if   observations[i] == 'k':\n",
    "        observation_matrix[0,i] = 1\n",
    "    elif observations[i] == 'w':\n",
    "        observation_matrix[1,i] = 1\n",
    "    else:\n",
    "        observation_matrix[2,i] = 1\n",
    "\n",
    "# Tile colours are represented as:\n",
    "# [1,0] for 'k' (black) \n",
    "# [0,1] for 'w' (white)\n",
    "\n",
    "tiles = ['K', 'K', 'W', 'K', 'W', 'W', 'K', 'W', 'W', 'K']\n",
    "#tiles = ['K', 'K', 'W', 'K', 'W', 'W', 'K', 'W', 'W', 'K', 'K', 'K', 'W']\n",
    "\n",
    "# Define tiles matrix\n",
    "tile_matrix = np.zeros(shape=(2,len(tiles)))\n",
    "\n",
    "for i in range (len(tiles)):\n",
    "    if tiles[i] == 'K':\n",
    "        tile_matrix[0,i] = 1\n",
    "    else: \n",
    "        tile_matrix[1,i] = 1\n",
    "   \n",
    "T = 500\n",
    "xs = list()\n",
    "\n",
    "hm = HMM(p0, transition_matrix, observation_matrix)\n",
    "\n",
    "y,x = hm.generate_sequence(300)\n",
    "\n",
    "log_alpha, log_alpha_pred = hm.forward(y)\n",
    "log_gamma = hm.forward_backward_smoother(y)\n",
    "xs = hm.viterbi(y)\n",
    "\n",
    "alpha = normalize_exp(log_alpha, axis=0)\n",
    "alpha_pred = normalize_exp(log_alpha_pred, axis=0)\n",
    "gam = normalize_exp(log_gamma, axis=0)\n",
    "\n",
    "plt.figure(figsize=(hm.S//5,1))\n",
    "plt.imshow(observation_matrix[1,:].reshape(1,hm.S), interpolation='nearest', cmap='gray_r')\n",
    "ax = plt.gca()\n",
    "ax.set_yticks([])\n",
    "ax.invert_yaxis()\n",
    "plt.title('Probability of observing a black tile at state x')\n",
    "plt.show()\n",
    "\n",
    "plt.figure(figsize=(20,5))\n",
    "plt.imshow(y.reshape(1,len(y)), interpolation='nearest', cmap='gray_r')\n",
    "ax = plt.gca()\n",
    "ax.set_yticks([])\n",
    "ax.invert_yaxis()\n",
    "plt.title('Observations')\n",
    "plt.xlabel('time')\n",
    "plt.show()\n",
    "\n",
    "plt.figure(figsize=(20,5))\n",
    "plt.imshow(alpha, interpolation='nearest', cmap='gray_r')\n",
    "ax = plt.gca()\n",
    "ax.invert_yaxis()\n",
    "plt.title('Filtered marginals')\n",
    "plt.show()\n",
    "\n",
    "plt.figure(figsize=(20,5))\n",
    "plt.imshow(alpha_pred, interpolation='nearest', cmap='gray_r')\n",
    "ax = plt.gca()\n",
    "ax.invert_yaxis()\n",
    "plt.title('Predicted marginals')\n",
    "plt.show()\n",
    "\n",
    "plt.figure(figsize=(20,5))\n",
    "plt.imshow(gam, interpolation='nearest', cmap='gray_r')\n",
    "plt.plot(xs,'wo')\n",
    "plt.plot(x,'.')\n",
    "ax = plt.gca()\n",
    "ax.invert_yaxis()\n",
    "ax.set_xlim((-0.5,T-0.5))\n",
    "ax.set_ylim((-0.5,S-0.5))\n",
    "plt.title('Smoothed marginals')\n",
    "\n",
    "plt.show()"
   ]
  }
 ],
 "metadata": {
  "kernelspec": {
   "display_name": "Python 3",
   "language": "python",
   "name": "python3"
  },
  "language_info": {
   "codemirror_mode": {
    "name": "ipython",
    "version": 3
   },
   "file_extension": ".py",
   "mimetype": "text/x-python",
   "name": "python",
   "nbconvert_exporter": "python",
   "pygments_lexer": "ipython3",
   "version": "3.6.3"
  }
 },
 "nbformat": 4,
 "nbformat_minor": 2
}
